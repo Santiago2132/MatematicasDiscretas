{
 "cells": [
  {
   "cell_type": "code",
   "execution_count": 5,
   "metadata": {},
   "outputs": [
    {
     "name": "stdout",
     "output_type": "stream",
     "text": [
      "Santiago\n"
     ]
    }
   ],
   "source": [
    "print(\"Santiago\")\n",
    "\n"
   ]
  },
  {
   "attachments": {},
   "cell_type": "markdown",
   "metadata": {},
   "source": [
    "Intento de interfaz funcional"
   ]
  },
  {
   "cell_type": "code",
   "execution_count": 2,
   "metadata": {},
   "outputs": [
    {
     "data": {
      "text/plain": [
       "<__main__.InterfazMatriz at 0x1a901e7d890>"
      ]
     },
     "execution_count": 2,
     "metadata": {},
     "output_type": "execute_result"
    }
   ],
   "source": [
    "import tkinter as tk\n",
    "\n",
    "class InterfazMatriz:\n",
    "    def __init__(self):\n",
    "        # Crear la ventana principal\n",
    "        self.ventana = tk.Tk()\n",
    "        self.ventana.geometry(\"500x500\")#Asignación de tamaño\n",
    "        self.ventana.title(\"Matrices 2x2\")\n",
    "        # Bloquear redimensionado\n",
    "        self.ventana.resizable(False, False)\n",
    "        # Crear los campos de entrada para la primera matriz\n",
    "        tk.Label(self.ventana, text=\"Matriz A:\").grid(row=0, column=0, padx=5, pady=5)\n",
    "        \n",
    "        self.entry_a11 = tk.Entry(self.ventana, width=5)\n",
    "        self.entry_a11.grid(row=1, column=0, padx=5, pady=5)\n",
    "        self.entry_a12 = tk.Entry(self.ventana, width=5)\n",
    "        self.entry_a12.grid(row=1, column=1, padx=5, pady=5)\n",
    "        self.entry_a21 = tk.Entry(self.ventana, width=5)\n",
    "        self.entry_a21.grid(row=2, column=0, padx=5, pady=5)\n",
    "        self.entry_a22 = tk.Entry(self.ventana, width=5)\n",
    "        self.entry_a22.grid(row=2, column=1, padx=5, pady=5)\n",
    "\n",
    "        # Crear un botón para calcular la segunda matriz y mostrarla en una nueva ventana\n",
    "        tk.Button(self.ventana, text=\"Calcular matriz B\", command=self.calcular_matriz_b).grid(row=3, column=0, padx=60, pady=5)\n",
    "        \n",
    "        # Iniciar el bucle principal de la ventana\n",
    "        self.ventana.mainloop()\n",
    "\n",
    "    def calcular_matriz_b(self):\n",
    "        # Obtener los valores de la primera matriz\n",
    "        a11 = float(self.entry_a11.get())\n",
    "        a12 = float(self.entry_a12.get())\n",
    "        a21 = float(self.entry_a21.get())\n",
    "        a22 = float(self.entry_a22.get())\n",
    "\n",
    "        # Calcular la segunda matriz\n",
    "        b11 = a22\n",
    "        b12 = -a12\n",
    "        b21 = -a21\n",
    "        b22 = a11\n",
    "        \n",
    "        # Crear una nueva ventana para mostrar la segunda matriz\n",
    "        ventana_b = tk.Toplevel(self.ventana)\n",
    "        ventana_b.title(\"Matriz B\")\n",
    "\n",
    "        # Crear etiquetas para mostrar la segunda matriz\n",
    "        tk.Label(ventana_b, text=\"Matriz B:\").grid(row=0, column=0, padx=5, pady=5)\n",
    "        tk.Label(ventana_b, text=str(b11)).grid(row=1, column=0, padx=5, pady=5)\n",
    "        tk.Label(ventana_b, text=str(b12)).grid(row=1, column=1, padx=5, pady=5)\n",
    "        tk.Label(ventana_b, text=str(b21)).grid(row=2, column=0, padx=5, pady=5)\n",
    "        tk.Label(ventana_b, text=str(b22)).grid(row=2, column=1, padx=5, pady=5)\n",
    "\n",
    "# Crear una instancia de la interfaz\n",
    "InterfazMatriz()\n"
   ]
  },
  {
   "attachments": {},
   "cell_type": "markdown",
   "metadata": {},
   "source": [
    "Tutorial de tkinter"
   ]
  },
  {
   "attachments": {},
   "cell_type": "markdown",
   "metadata": {},
   "source": [
    "Tutorial de como usar tkinte"
   ]
  },
  {
   "cell_type": "code",
   "execution_count": 14,
   "metadata": {},
   "outputs": [],
   "source": [
    "import tkinter as tk\n",
    "ventana = tk.Tk()\n",
    "ventana.geometry(\"400x300\")\n",
    "\n",
    "etiqueta = tk.Label(ventana, text = \"Calculadora\", bg = \"gray\")\n",
    "etiqueta.pack(fill = tk.Y)# al nombrarlo asi abarcara todo X\n",
    "#etiqueta.pack(side = tk.RIGHT)#Con esto se pone a la izquierda en la mitad de la \n",
    "#ventana.resizable(False, False)#Con esta linea hacemos que el programa no sea reescalables\n",
    "ventana.mainloop()"
   ]
  }
 ],
 "metadata": {
  "kernelspec": {
   "display_name": "Python 3",
   "language": "python",
   "name": "python3"
  },
  "language_info": {
   "codemirror_mode": {
    "name": "ipython",
    "version": 3
   },
   "file_extension": ".py",
   "mimetype": "text/x-python",
   "name": "python",
   "nbconvert_exporter": "python",
   "pygments_lexer": "ipython3",
   "version": "3.11.2"
  },
  "orig_nbformat": 4
 },
 "nbformat": 4,
 "nbformat_minor": 2
}
